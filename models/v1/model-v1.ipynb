{
 "cells": [
  {
   "cell_type": "code",
   "execution_count": 2,
   "metadata": {
    "collapsed": false
   },
   "outputs": [
    {
     "name": "stderr",
     "output_type": "stream",
     "text": [
      "Using TensorFlow backend.\n"
     ]
    }
   ],
   "source": [
    "import tensorflow as tf\n",
    "from keras.layers import Dense, Input, Conv2D, MaxPooling2D, Flatten, concatenate, LSTM, Lambda, TimeDistributed\n",
    "from keras.models import Model\n",
    "from keras.backend import expand_dims\n",
    "from keras.optimizers import RMSprop\n",
    "from keras.callbacks import ModelCheckpoint"
   ]
  },
  {
   "cell_type": "code",
   "execution_count": 23,
   "metadata": {
    "collapsed": false
   },
   "outputs": [
    {
     "name": "stdout",
     "output_type": "stream",
     "text": [
      "Model: \"model_9\"\n",
      "__________________________________________________________________________________________________\n",
      "Layer (type)                    Output Shape         Param #     Connected to                     \n",
      "==================================================================================================\n",
      "input_17 (InputLayer)           (None, 90, 150, 150, 0                                            \n",
      "__________________________________________________________________________________________________\n",
      "time_distributed_65 (TimeDistri (None, 90, 148, 148, 112         input_17[0][0]                   \n",
      "__________________________________________________________________________________________________\n",
      "time_distributed_66 (TimeDistri (None, 90, 74, 74, 4 0           time_distributed_65[0][0]        \n",
      "__________________________________________________________________________________________________\n",
      "time_distributed_67 (TimeDistri (None, 90, 72, 72, 5 185         time_distributed_66[0][0]        \n",
      "__________________________________________________________________________________________________\n",
      "time_distributed_68 (TimeDistri (None, 90, 36, 36, 5 0           time_distributed_67[0][0]        \n",
      "__________________________________________________________________________________________________\n",
      "time_distributed_69 (TimeDistri (None, 90, 34, 34, 1 460         time_distributed_68[0][0]        \n",
      "__________________________________________________________________________________________________\n",
      "time_distributed_70 (TimeDistri (None, 90, 17, 17, 1 0           time_distributed_69[0][0]        \n",
      "__________________________________________________________________________________________________\n",
      "time_distributed_71 (TimeDistri (None, 90, 2890)     0           time_distributed_70[0][0]        \n",
      "__________________________________________________________________________________________________\n",
      "time_distributed_72 (TimeDistri (None, 90, 100)      289100      time_distributed_71[0][0]        \n",
      "__________________________________________________________________________________________________\n",
      "input_18 (InputLayer)           (None, 1)            0                                            \n",
      "__________________________________________________________________________________________________\n",
      "lstm_9 (LSTM)                   (None, 1)            408         time_distributed_72[0][0]        \n",
      "__________________________________________________________________________________________________\n",
      "dense_26 (Dense)                (None, 1)            2           input_18[0][0]                   \n",
      "__________________________________________________________________________________________________\n",
      "concatenate_9 (Concatenate)     (None, 2)            0           lstm_9[0][0]                     \n",
      "                                                                 dense_26[0][0]                   \n",
      "__________________________________________________________________________________________________\n",
      "dense_27 (Dense)                (None, 1)            3           concatenate_9[0][0]              \n",
      "==================================================================================================\n",
      "Total params: 290,270\n",
      "Trainable params: 290,270\n",
      "Non-trainable params: 0\n",
      "__________________________________________________________________________________________________\n",
      "None\n"
     ]
    }
   ],
   "source": [
    "#    -- Image PreProcessing Model --\n",
    "\n",
    "# Our input feature map is 150x150x3: 150x150 for the image pixels, and 3 for\n",
    "# the three color channels: R, G, and B\n",
    "vid_input = Input(shape=(90, 150, 150, 3))\n",
    "\n",
    "# First convolution extracts 4 filters that are 3x3\n",
    "# Convolution is followed by max-pooling layer with a 2x2 window\n",
    "\n",
    "model = TimeDistributed(Conv2D(4, (3,3), activation='relu'))(vid_input)\n",
    "model = TimeDistributed(MaxPooling2D(pool_size=(2,2)))(model)\n",
    "\n",
    "# Second convolution extracts 5 filters that are 3x3\n",
    "# Convolution is followed by max-pooling layer with a 2x2 window\n",
    "\n",
    "model = TimeDistributed(Conv2D(5, (3,3), activation='relu'))(model)\n",
    "model = TimeDistributed(MaxPooling2D(pool_size=(2,2)))(model)\n",
    "\n",
    "# Third convolution extracts 10 filters that are 3x3\n",
    "# Convolution is followed by max-pooling layer with a 2x2 window\n",
    "\n",
    "model = TimeDistributed(Conv2D(10, (3,3), activation='relu'))(model)\n",
    "model = TimeDistributed(MaxPooling2D(pool_size=(2,2)))(model)\n",
    "\n",
    "model = TimeDistributed(Flatten())(model)\n",
    "\n",
    "model = TimeDistributed(Dense(100, activation='relu'))(model)\n",
    "\n",
    "model = LSTM(1)(model)\n",
    " \n",
    "#    -- Audio PreProcessing Model --\n",
    "\n",
    "aud_input = Input(shape=(1,))\n",
    "\n",
    "# Put through a layer with linear activation\n",
    "aud_model = Dense(1, activation='linear')(aud_input)\n",
    "\n",
    "#     -- Concatenate Layers --\n",
    "concatModel = concatenate([model, aud_model])\n",
    "#concatModel = Lambda(lambda x: expand_dims(x, -1))(concatModel)\n",
    "\n",
    "output = Dense(1, activation='softmax')(concatModel)\n",
    "\n",
    "model = Model(inputs=[vid_input, aud_input], outputs=output)\n",
    "\n",
    "model.compile(loss = 'binary_crossentropy',\n",
    "              optimizer = RMSprop(lr = 0.001),\n",
    "              metrics = ['acc'])\n",
    "\n",
    "print(model.summary())"
   ]
  },
  {
   "cell_type": "code",
   "execution_count": 24,
   "metadata": {
    "collapsed": true
   },
   "outputs": [],
   "source": [
    "# serialize model to JSON\n",
    "model.save('model.h5')\n",
    "# model_json = model.to_json()\n",
    "# with open(\"model.json\", \"w\") as json_file:\n",
    "#     json_file.write(model_json)"
   ]
  },
  {
   "cell_type": "code",
   "execution_count": null,
   "metadata": {
    "collapsed": true
   },
   "outputs": [],
   "source": []
  }
 ],
 "metadata": {
  "kernelspec": {
   "display_name": "Python 3",
   "language": "python",
   "name": "python3"
  },
  "language_info": {
   "codemirror_mode": {
    "name": "ipython",
    "version": 3
   },
   "file_extension": ".py",
   "mimetype": "text/x-python",
   "name": "python",
   "nbconvert_exporter": "python",
   "pygments_lexer": "ipython3",
   "version": "3.5.4"
  }
 },
 "nbformat": 4,
 "nbformat_minor": 0
}
