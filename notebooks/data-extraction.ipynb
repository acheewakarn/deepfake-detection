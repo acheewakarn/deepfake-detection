{
 "cells": [
  {
   "cell_type": "code",
   "execution_count": null,
   "metadata": {},
   "outputs": [],
   "source": [
    "import os\n",
    "os.sys.path\n",
    "\n",
    "import cv2\n",
    "import math\n",
    "from moviepy.editor import *\n",
    "import zipfile\n",
    "import json\n",
    "import face_recognition\n",
    "import time"
   ]
  },
  {
   "cell_type": "code",
   "execution_count": null,
   "metadata": {
    "colab": {},
    "colab_type": "code",
    "id": "q6CvHI71CzxS"
   },
   "outputs": [],
   "source": [
    "def isComplete(folder):\n",
    "\n",
    "  if folder in os.listdir('data_folders'):\n",
    "    if len(os.listdir(folder)) >= 90 and audioFile in os.listdir('audioFiles/unlabeled'):\n",
    "      doned_vid.add(folder)\n",
    "      # print(folder)\n",
    "      return True\n",
    "\n",
    "  return False"
   ]
  },
  {
   "cell_type": "code",
   "execution_count": null,
   "metadata": {},
   "outputs": [],
   "source": [
    "def removeMP4():\n",
    "    for f in os.listdir():\n",
    "        if f[-4:] == '.mp4':\n",
    "            os.remove(f)"
   ]
  },
  {
   "cell_type": "code",
   "execution_count": null,
   "metadata": {
    "colab": {},
    "colab_type": "code",
    "id": "4ryYsQZG5Q0t"
   },
   "outputs": [],
   "source": [
    "\n",
    "## extract face frames and audio\n",
    "## Make sure to os.chdir() to the ## directory where the zip file is located. for example ../training_sets/00\n",
    "def extractThisShit():\n",
    "  total_start_time = time.perf_counter()\n",
    "  vid_count = 0\n",
    "  bad_files = set()\n",
    "  # ## Unzip files\n",
    "\n",
    "  for mp4File in os.listdir():\n",
    "    ## extract .wav and video frames\n",
    "    if mp4File[-4:] == '.mp4':\n",
    "      vid_count += 1\n",
    "      start_time = time.perf_counter()\n",
    "      fileHash = mp4File[:10]\n",
    "      data_folder = fileHash + '-data'\n",
    "      folder = 'data_folders/' + data_folder + '/'\n",
    "      imgName = folder + fileHash # data_folders/xxxxxxxxxx-data/xxxxxxxxxx\n",
    "      audiofile = 'audioFiles/unlabeled/' + fileHash + '.wav'\n",
    "\n",
    "      if isComplete(data_folder):\n",
    "        print('%s is already complete...' %data_folder)\n",
    "\n",
    "      else:\n",
    "        print('Creating %s' %data_folder)\n",
    "        !mkdir $folder\n",
    "\n",
    "          # frames extraction\n",
    "        vidcap = cv2.VideoCapture(mp4File)\n",
    "        success,image = vidcap.read()\n",
    "        count = 0\n",
    "        buffer = 50\n",
    "        face_locations = []\n",
    "        print('-----')\n",
    "        print('Vid: %d' %(vid_count))\n",
    "        print('Extracting frames from %s' %mp4File)\n",
    "        try:\n",
    "          while success:\n",
    "            # calculate face location every 1 sec (~30frames)\n",
    "            if count >= 90:\n",
    "              break\n",
    "            elif count%30==0:\n",
    "              face_locations = face_recognition.face_locations(image)\n",
    "\n",
    "            # check for # face in vid. We do not work with multiple faces.\n",
    "              if len(face_locations) != 1:\n",
    "              #break loop and delete data related to the vid.\n",
    "                print('%s deleted bc FR does not work' %folder)\n",
    "                bad_files.add(mp4File)\n",
    "                !rm -rf $folder\n",
    "                break\n",
    "          \n",
    "            (top, right, bot, left) = face_locations[0]\n",
    "            face = image[top-buffer:bot+buffer, left-buffer:right+buffer]\n",
    "\n",
    "            dim = (150, 150)\n",
    "              # resize image\n",
    "            resized = cv2.resize(face, dim, interpolation = cv2.INTER_AREA) \n",
    "            cv2.imwrite('%s_face%d.jpg' %(imgName, count), resized)\n",
    "            success,image = vidcap.read()\n",
    "            count += 1\n",
    "\n",
    "          if mp4File not in bad_files:\n",
    "            audio = VideoFileClip(mp4File).audio\n",
    "            audio.write_audiofile(audiofile)\n",
    "\n",
    "        except:\n",
    "          print('Failed Processing File')\n",
    "          !rm -rf $folder\n",
    "\n",
    "        end_time = time.perf_counter()\n",
    "        print('Extracted Data From %s in %d seconds.' %(mp4File, int(end_time-start_time)))\n",
    "\n",
    "  total_end_time = time.perf_counter()\n",
    "\n",
    "  print('Processing %d videos, took %d seconds' %( vid_count, int(total_end_time-total_start_time)))"
   ]
  },
  {
   "cell_type": "code",
   "execution_count": null,
   "metadata": {
    "colab": {},
    "colab_type": "code",
    "id": "Nl53EfulMWkw"
   },
   "outputs": [],
   "source": [
    "os.chdir('/home/anonymous-anon/Workspaces/Deepfake-Detection/training_set/19')\n",
    "!mkdir audioFiles/\n",
    "!mkdir audioFiles/unlabeled/ \n",
    "!mkdir data_folders/\n",
    "extractThisShit()\n",
    "# removeMP4()\n",
    "# print('MP4 files deleted...')\n",
    "\n"
   ]
  },
  {
   "cell_type": "code",
   "execution_count": null,
   "metadata": {
    "colab": {},
    "colab_type": "code",
    "id": "Nl53EfulMWkw"
   },
   "outputs": [],
   "source": [
    "os.chdir('/home/anonymous-anon/Workspaces/Deepfake-Detection/training_set/21')\n",
    "!mkdir audioFiles/\n",
    "!mkdir audioFiles/unlabeled/ \n",
    "!mkdir data_folders/\n",
    "extractThisShit()\n",
    "# removeMP4()\n",
    "# print('MP4 files deleted...')\n",
    "\n"
   ]
  },
  {
   "cell_type": "code",
   "execution_count": null,
   "metadata": {},
   "outputs": [],
   "source": []
  }
 ],
 "metadata": {
  "accelerator": "GPU",
  "colab": {
   "collapsed_sections": [],
   "name": "data-extraction.ipynb",
   "provenance": [
    {
     "file_id": "1LdKsHC7btynZTOB6xJ21cHwZlfUOdA4j",
     "timestamp": 1582225110749
    },
    {
     "file_id": "1Mp1VDLB7tnoiVoUJ7-vvF-uzXcOXLIGC",
     "timestamp": 1582007943720
    }
   ]
  },
  "kernelspec": {
   "display_name": "Python 3",
   "language": "python",
   "name": "python3"
  },
  "language_info": {
   "codemirror_mode": {
    "name": "ipython",
    "version": 3
   },
   "file_extension": ".py",
   "mimetype": "text/x-python",
   "name": "python",
   "nbconvert_exporter": "python",
   "pygments_lexer": "ipython3",
   "version": "3.6.9"
  }
 },
 "nbformat": 4,
 "nbformat_minor": 1
}
