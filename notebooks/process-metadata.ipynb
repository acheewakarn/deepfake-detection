{
 "cells": [
  {
   "cell_type": "code",
   "execution_count": 2,
   "metadata": {
    "collapsed": true
   },
   "outputs": [],
   "source": [
    "def processMetadata(file):\n",
    "    jsonFile =  open(file)\n",
    "    data = json.load(jsonFile)\n",
    "\n",
    "    labels = {}\n",
    "    testIDs = []\n",
    "    validIDs = []\n",
    "    # every fifth key is validID, the rest are testID\n",
    "    validationCount = 0\n",
    "    for oldKey in data.keys():\n",
    "        newKey = oldKey[:-4]\n",
    "        if validationCount % 5 == 0:\n",
    "          validIDs.append(newKey)\n",
    "        else:\n",
    "          testIDs.append(newKey)\n",
    "        \n",
    "        labels[newKey] = {\n",
    "          'label': int(data[oldKey]['label'] == 'FAKE'), #labels = 1 if fake,\n",
    "          'audioPrediction': data[oldKey]['fakeAudioPrediction']\n",
    "        }\n",
    "\n",
    "        validationCount += 1\n",
    "    return (testIDs, validIDs, labels)"
   ]
  },
  {
   "cell_type": "code",
   "execution_count": 15,
   "metadata": {
    "collapsed": true
   },
   "outputs": [],
   "source": [
    "metadataPath =  './merged_metadata.json'\n",
    "\n",
    "testObject = {}\n",
    "validObject = {}\n",
    "\n",
    "(testIDs, validIDs, labels) = processMetadata(metadataPath)\n",
    "\n",
    "for ID in testIDs:\n",
    "    testObject[ID] = {\n",
    "        'label': labels[ID]['label'],\n",
    "        'fakeAudioPrediction': labels[ID]['audioPrediction']\n",
    "    }\n",
    "    \n",
    "for ID in validIDs:\n",
    "    validObject[ID] = {\n",
    "        'label': labels[ID]['label'],\n",
    "        'fakeAudioPrediction': labels[ID]['audioPrediction']\n",
    "    }\n",
    "    \n",
    "metadataObject = {\n",
    "    'test': testObject,\n",
    "    'valid': validObject\n",
    "}\n",
    "with open('processed-metadata.json', 'w') as outfile:\n",
    "    json.dump(metadataObject, outfile)"
   ]
  },
  {
   "cell_type": "code",
   "execution_count": 3,
   "metadata": {},
   "outputs": [
    {
     "name": "stdout",
     "output_type": "stream",
     "text": [
      "7790\n",
      "1949\n"
     ]
    }
   ],
   "source": [
    "import json\n",
    "metedata = {}\n",
    "with open('processed-metadata.json', 'r') as file:\n",
    "    metadata = json.load(file)\n",
    "    \n",
    "    (testIDs, validIDs, labels) = processMetadata('./new_dataset/merged_metadata_12_to_22.json')\n",
    "    \n",
    "    for ID in testIDs:\n",
    "        metadata['test'][ID] = {\n",
    "            'label': labels[ID]['label'],\n",
    "            'fakeAudioPrediction': labels[ID]['audioPrediction']\n",
    "        }\n",
    "    \n",
    "    for ID in validIDs:\n",
    "        metadata['valid'][ID] = {\n",
    "            'label': labels[ID]['label'],\n",
    "            'fakeAudioPrediction': labels[ID]['audioPrediction']\n",
    "        }\n",
    "    \n",
    "    print(len(metadata['test'].keys()))\n",
    "    print(len(metadata['valid'].keys()))\n",
    "\n",
    "with open('processed-metadata.json', 'w') as outfile:\n",
    "    json.dump(metadata, outfile)\n",
    "    "
   ]
  },
  {
   "cell_type": "code",
   "execution_count": 17,
   "metadata": {},
   "outputs": [
    {
     "name": "stdout",
     "output_type": "stream",
     "text": [
      "7784\n"
     ]
    }
   ],
   "source": [
    "with open('processed-metadata.json', 'r') as file:\n",
    "    metadata = json.load(file)\n",
    "    print(len(metadata['test']))"
   ]
  },
  {
   "cell_type": "code",
   "execution_count": 16,
   "metadata": {},
   "outputs": [
    {
     "name": "stdout",
     "output_type": "stream",
     "text": [
      "8\n",
      "7784\n",
      "1947\n"
     ]
    }
   ],
   "source": [
    "import os\n",
    "import json\n",
    "metadata = {}\n",
    "with open('processed-metadata.json', 'r') as file:\n",
    "    metadata = json.load(file)\n",
    "    count = 0\n",
    "    for ID in list(metadata['test'].keys()):\n",
    "        imagePath = os.path.join('./merged_data', os.path.join(ID + '-data', ID + '_face' + str(89) + '.jpg'))\n",
    "        #print(imagePath)\n",
    "        \n",
    "        if not os.path.isfile(imagePath):\n",
    "            del metadata['test'][ID]\n",
    "            count += 1\n",
    "            \n",
    "    for ID in list(metadata['valid'].keys()):\n",
    "        imagePath = os.path.join('./merged_data', os.path.join(ID + '-data', ID + '_face' + str(89) + '.jpg'))\n",
    "        #print(imagePath)\n",
    "        \n",
    "        if not os.path.isfile(imagePath):\n",
    "            del metadata['valid'][ID]\n",
    "            count += 1\n",
    "    print(count)\n",
    "    print(len(metadata['test'].keys()))\n",
    "    print(len(metadata['valid'].keys()))\n",
    "\n",
    "with open('processed-metadata.json', 'w') as outfile:\n",
    "    json.dump(metadata, outfile)"
   ]
  },
  {
   "cell_type": "code",
   "execution_count": null,
   "metadata": {
    "collapsed": true
   },
   "outputs": [],
   "source": []
  }
 ],
 "metadata": {
  "kernelspec": {
   "display_name": "Python 3",
   "language": "python",
   "name": "python3"
  },
  "language_info": {
   "codemirror_mode": {
    "name": "ipython",
    "version": 3
   },
   "file_extension": ".py",
   "mimetype": "text/x-python",
   "name": "python",
   "nbconvert_exporter": "python",
   "pygments_lexer": "ipython3",
   "version": "3.5.4"
  }
 },
 "nbformat": 4,
 "nbformat_minor": 1
}
